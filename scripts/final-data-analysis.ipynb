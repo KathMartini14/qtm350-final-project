{
 "cells": [
  {
   "cell_type": "markdown",
   "id": "95d43ed4",
   "metadata": {},
   "source": [
    "QTM 350 Final Project Data Analysis\n",
    "\n",
    "Katherine Martini"
   ]
  },
  {
   "cell_type": "code",
   "execution_count": null,
   "id": "5649316a",
   "metadata": {},
   "outputs": [],
   "source": [
    "import pandas as pd\n",
    "import numpy as np\n",
    "import matplotlib.pyplot as plt\n"
   ]
  },
  {
   "cell_type": "code",
   "execution_count": 2,
   "id": "476d9886",
   "metadata": {},
   "outputs": [],
   "source": [
    "df = pd.read_csv('final-project-data.csv', encoding='cp1252')\n",
    "\n",
    "region_mapping = {\n",
    "    'Argentina': 'South America',\n",
    "    'Belize': 'Central America',\n",
    "    'Costa Rica': 'Central America',\n",
    "    'El Salvador': 'Central America',\n",
    "    'Guatemala': 'Central America',\n",
    "    'Honduras': 'Central America',\n",
    "    'Nicaragua': 'Central America',\n",
    "    'Panama': 'Central America',\n",
    "    'Mexico': 'Central America',\n",
    "    'Bolivia': 'South America',\n",
    "    'Brazil': 'South America',\n",
    "    'Chile': 'South America',\n",
    "    'Colombia': 'South America',\n",
    "    'Ecuador': 'South America',\n",
    "    'Guyana': 'South America',\n",
    "    'Paraguay': 'South America',\n",
    "    'Peru': 'South America',\n",
    "    'Suriname': 'South America',\n",
    "    'Uruguay': 'South America',\n",
    "    'Venezuela, RB': 'South America',\n",
    "    'Cuba': 'Caribbean',\n",
    "    'Dominican Republic': 'Caribbean',\n",
    "    'Haiti': 'Caribbean',\n",
    "    'Jamaica': 'Caribbean',\n",
    "    'St. Martin (French part)': 'Caribbean',\n",
    "    'Puerto Rico': 'Caribbean',\n",
    "}\n",
    "\n",
    "df['Region'] = df['Country Name'].map(region_mapping)"
   ]
  },
  {
   "cell_type": "code",
   "execution_count": 25,
   "id": "4fd68ae3",
   "metadata": {},
   "outputs": [
    {
     "name": "stdout",
     "output_type": "stream",
     "text": [
      "            Region Average Life Expectancy\n",
      "0        Caribbean               70.697967\n",
      "2    South America               69.356007\n",
      "1  Central America               68.988212\n"
     ]
    }
   ],
   "source": [
    "life_expectancy_df = df[df['Series Name'] == 'Life expectancy at birth, total (years)'].copy()\n",
    "year_columns = [col for col in df.columns if '[YR' in col]\n",
    "life_expectancy_df.loc[:, year_columns] = life_expectancy_df[year_columns].apply(pd.to_numeric, errors='coerce')\n",
    "life_expectancy_df['Average Life Expectancy'] = life_expectancy_df[year_columns].mean(axis=1)\n",
    "\n",
    "life_result = life_expectancy_df[['Region', 'Average Life Expectancy']]\n",
    "life_result = life_result.dropna(subset=['Average Life Expectancy'])\n",
    "life_result = life_result.groupby('Region')['Average Life Expectancy'].mean().reset_index()\n",
    "life_result = life_result.sort_values(by='Average Life Expectancy', ascending=False)\n",
    "print(life_result)"
   ]
  },
  {
   "cell_type": "code",
   "execution_count": 24,
   "id": "d52425e8",
   "metadata": {},
   "outputs": [
    {
     "name": "stdout",
     "output_type": "stream",
     "text": [
      "            Region Average Mortality Under 5 yo\n",
      "0        Caribbean                    61.526531\n",
      "1  Central America                    41.316837\n",
      "2    South America                    40.174876\n"
     ]
    }
   ],
   "source": [
    "mortality_df = df[df['Series Name'] == 'Mortality rate, under-5 (per 1,000 live births)'].copy()\n",
    "mortality_df.loc[:, year_columns] = mortality_df[year_columns].apply(pd.to_numeric, errors='coerce')\n",
    "mortality_df['Average Mortality Under 5 yo'] = mortality_df[year_columns].mean(axis=1)\n",
    "\n",
    "mort_result = mortality_df[['Region', 'Average Mortality Under 5 yo']]\n",
    "mort_result = mort_result.dropna(subset=['Average Mortality Under 5 yo'])\n",
    "mort_result = mort_result.groupby('Region')['Average Mortality Under 5 yo'].mean().reset_index()\n",
    "mort_result = mort_result.sort_values(by='Average Mortality Under 5 yo', ascending=False)\n",
    "print(mort_result)"
   ]
  },
  {
   "cell_type": "code",
   "execution_count": 23,
   "id": "c9c3ebef",
   "metadata": {},
   "outputs": [
    {
     "name": "stdout",
     "output_type": "stream",
     "text": [
      "            Region Average Fertility Rate\n",
      "1  Central America             100.462635\n",
      "2    South America              77.902779\n",
      "0        Caribbean              65.945947\n"
     ]
    }
   ],
   "source": [
    "fertility_df = df[df['Series Name'] == 'Adolescent fertility rate (births per 1,000 women ages 15-19)'].copy()\n",
    "fertility_df.loc[:, year_columns] = fertility_df[year_columns].apply(pd.to_numeric, errors='coerce')\n",
    "fertility_df['Average Fertility Rate'] = fertility_df[year_columns].mean(axis=1)\n",
    "\n",
    "fertility_result = fertility_df[['Region', 'Average Fertility Rate']]\n",
    "fertility_result = fertility_result.dropna(subset=['Average Fertility Rate'])\n",
    "fertility_result = fertility_result.groupby('Region')['Average Fertility Rate'].mean().reset_index()\n",
    "fertility_result = fertility_result.sort_values(by='Average Fertility Rate', ascending=False)\n",
    "print(fertility_result)"
   ]
  },
  {
   "cell_type": "code",
   "execution_count": 22,
   "id": "32184b70",
   "metadata": {},
   "outputs": [
    {
     "name": "stdout",
     "output_type": "stream",
     "text": [
      "            Region Grouped Immunization Average\n",
      "1  Central America                    84.240333\n",
      "2    South America                    80.869707\n",
      "0        Caribbean                     74.12531\n"
     ]
    }
   ],
   "source": [
    "immunization_group = [\n",
    "    'Immunization, DPT (% of children ages 12-23 months)',\n",
    "    'Immunization, HepB3 (% of one-year-old children)',\n",
    "    'Immunization, measles (% of children ages 12-23 months)'\n",
    "]\n",
    "\n",
    "immunization_df = df[df['Series Name'].isin(immunization_group)].copy()\n",
    "immunization_df.loc[:, year_columns] = immunization_df[year_columns].apply(pd.to_numeric, errors='coerce')\n",
    "immunization_df['Grouped Immunization Average'] = immunization_df[year_columns].mean(axis=1)\n",
    "\n",
    "immune_result = immunization_df[['Region', 'Grouped Immunization Average']]\n",
    "immune_result = immune_result.dropna(subset=['Grouped Immunization Average'])\n",
    "immune_result = immune_result.groupby('Region')['Grouped Immunization Average'].mean().reset_index()\n",
    "immune_result = immune_result.sort_values(by='Grouped Immunization Average', ascending=False)\n",
    "print(immune_result)"
   ]
  },
  {
   "cell_type": "code",
   "execution_count": 21,
   "id": "134a23df",
   "metadata": {},
   "outputs": [
    {
     "name": "stdout",
     "output_type": "stream",
     "text": [
      "            Region Average Health Expenditure\n",
      "1  Central America                   6.785006\n",
      "2    South America                   6.429862\n",
      "0        Caribbean                   6.312227\n"
     ]
    }
   ],
   "source": [
    "health_df = df[df['Series Name'] == 'Current health expenditure (% of GDP)'].copy()\n",
    "health_df.loc[:, year_columns] = health_df[year_columns].apply(pd.to_numeric, errors='coerce')\n",
    "health_df['Average Health Expenditure'] = health_df[year_columns].mean(axis=1)\n",
    "\n",
    "health_result = health_df[['Region', 'Average Health Expenditure']]\n",
    "health_result = health_result.dropna(subset=['Average Health Expenditure'])\n",
    "health_result = health_result.groupby('Region')['Average Health Expenditure'].mean().reset_index()\n",
    "health_result = health_result.sort_values(by='Average Health Expenditure', ascending=False)\n",
    "print(health_result)"
   ]
  },
  {
   "cell_type": "code",
   "execution_count": null,
   "id": "b5da1f41",
   "metadata": {},
   "outputs": [
    {
     "name": "stdout",
     "output_type": "stream",
     "text": [
      "| Region          |   Life Expectancy Rank |   Mortality Rank |   Grouped Immunization Rank |   Health Expenditure Rank |   Fertility Rank |\n",
      "|:----------------|-----------------------:|-----------------:|----------------------------:|--------------------------:|-----------------:|\n",
      "| Caribbean       |                      1 |                3 |                           3 |                         3 |                1 |\n",
      "| South America   |                      2 |                1 |                           2 |                         2 |                2 |\n",
      "| Central America |                      3 |                2 |                           1 |                         1 |                3 |\n"
     ]
    }
   ],
   "source": [
    "ranking_merge = life_result.merge(mort_result, on='Region')\n",
    "ranking_merge = ranking_merge.merge(fertility_result, on='Region')\n",
    "ranking_merge = ranking_merge.merge(immune_result, on='Region')\n",
    "ranking_merge = ranking_merge.merge(health_result, on='Region')\n",
    "\n",
    "ranking_merge['Life Expectancy Rank'] = ranking_merge['Average Life Expectancy'].rank(ascending=False).astype(int)\n",
    "ranking_merge['Mortality Rank'] = ranking_merge['Average Mortality Under 5 yo'].rank(ascending=True).astype(int)\n",
    "ranking_merge['Grouped Immunization Rank'] = ranking_merge['Grouped Immunization Average'].rank(ascending=False).astype(int)\n",
    "ranking_merge['Health Expenditure Rank'] = ranking_merge['Average Health Expenditure'].rank(ascending=False).astype(int)\n",
    "ranking_merge['Fertility Rank'] = ranking_merge['Average Fertility Rate'].rank(ascending=True).astype(int)\n",
    "\n",
    "ranking_result = ranking_merge[['Region', \n",
    "                            'Life Expectancy Rank', \n",
    "                            'Mortality Rank', \n",
    "                            'Grouped Immunization Rank', \n",
    "                            'Health Expenditure Rank', \n",
    "                            'Fertility Rank']]\n",
    "\n",
    "print(ranking_result.to_markdown(index=False))\n",
    "\n"
   ]
  }
 ],
 "metadata": {
  "kernelspec": {
   "display_name": "qtm151",
   "language": "python",
   "name": "python3"
  },
  "language_info": {
   "codemirror_mode": {
    "name": "ipython",
    "version": 3
   },
   "file_extension": ".py",
   "mimetype": "text/x-python",
   "name": "python",
   "nbconvert_exporter": "python",
   "pygments_lexer": "ipython3",
   "version": "3.12.2"
  }
 },
 "nbformat": 4,
 "nbformat_minor": 5
}
